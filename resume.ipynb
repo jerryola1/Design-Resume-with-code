{
 "cells": [
  {
   "cell_type": "code",
   "execution_count": 1,
   "id": "71205c7e-2a3a-43fd-ac4b-7fc48b9a9c29",
   "metadata": {},
   "outputs": [
    {
     "ename": "ModuleNotFoundError",
     "evalue": "No module named 'reportlab'",
     "output_type": "error",
     "traceback": [
      "\u001b[0;31m---------------------------------------------------------------------------\u001b[0m",
      "\u001b[0;31mModuleNotFoundError\u001b[0m                       Traceback (most recent call last)",
      "Cell \u001b[0;32mIn[1], line 2\u001b[0m\n\u001b[1;32m      1\u001b[0m \u001b[38;5;66;03m# import necessary classes from reportlab\u001b[39;00m\n\u001b[0;32m----> 2\u001b[0m \u001b[38;5;28;01mfrom\u001b[39;00m \u001b[38;5;21;01mreportlab\u001b[39;00m\u001b[38;5;21;01m.\u001b[39;00m\u001b[38;5;21;01mlib\u001b[39;00m\u001b[38;5;21;01m.\u001b[39;00m\u001b[38;5;21;01mpagesizes\u001b[39;00m \u001b[38;5;28;01mimport\u001b[39;00m letter\n\u001b[1;32m      3\u001b[0m \u001b[38;5;28;01mfrom\u001b[39;00m \u001b[38;5;21;01mreportlab\u001b[39;00m\u001b[38;5;21;01m.\u001b[39;00m\u001b[38;5;21;01mpdfgen\u001b[39;00m \u001b[38;5;28;01mimport\u001b[39;00m canvas\n\u001b[1;32m      4\u001b[0m \u001b[38;5;28;01mfrom\u001b[39;00m \u001b[38;5;21;01mreportlab\u001b[39;00m\u001b[38;5;21;01m.\u001b[39;00m\u001b[38;5;21;01mlib\u001b[39;00m \u001b[38;5;28;01mimport\u001b[39;00m colors\n",
      "\u001b[0;31mModuleNotFoundError\u001b[0m: No module named 'reportlab'"
     ]
    }
   ],
   "source": [
    "# import necessary classes from reportlab\n",
    "from reportlab.lib.pagesizes import letter\n",
    "from reportlab.pdfgen import canvas\n",
    "from reportlab.lib import colors\n",
    "\n",
    "# Create a function to add a section header to the CV\n",
    "def add_section_header(c, text, x, y):\n",
    "    c.setFont(\"Helvetica-Bold\", 12)\n",
    "    c.drawString(x, y, text)\n",
    "\n",
    "# Create a function to add text to the CV\n",
    "def add_text(c, text, x, y):\n",
    "    c.setFont(\"Helvetica\", 10)\n",
    "    c.drawString(x, y, text)\n",
    "\n",
    "# Set up the PDF file\n",
    "c = canvas.Canvas(\"/mnt/data/cv_template.pdf\", pagesize=letter)\n",
    "c.setStrokeColor(colors.black)\n",
    "\n",
    "# Draw the section headers\n",
    "add_section_header(c, \"PROFILE\", 72, 730)\n",
    "add_section_header(c, \"PROFESSIONAL EXPERIENCE\", 72, 680)\n",
    "add_section_header(c, \"EDUCATION\", 72, 580)\n",
    "\n",
    "# Add some placeholder text for PROFILE\n",
    "add_text(c, \"Lorem ipsum dolor sit amet, consectetur adipiscing elit...\", 72, 710)\n",
    "\n",
    "# Add some placeholder text for PROFESSIONAL EXPERIENCE\n",
    "add_text(c, \"2020 - 2022\", 72, 660)\n",
    "add_text(c, \"Position Held - Company\", 72, 645)\n",
    "add_text(c, \"Brief description of the job responsibilities and achievements.\", 72, 630)\n",
    "\n",
    "# Add more experience items as needed...\n",
    "\n",
    "# Add some placeholder text for EDUCATION\n",
    "add_text(c, \"2005 - 2008\", 72, 560)\n",
    "add_text(c, \"Degree\", 72, 545)\n",
    "add_text(c, \"Institution\", 72, 530)\n",
    "\n",
    "# Add more education items as needed...\n",
    "\n",
    "# Save the PDF file\n",
    "c.save()\n",
    "\n",
    "# Output the path to the generated CV template\n",
    "print(\"CV template has been created: /mnt/data/cv_template.pdf\")\n"
   ]
  },
  {
   "cell_type": "code",
   "execution_count": null,
   "id": "94871fe7-2789-4c44-81de-075dfa08cbc0",
   "metadata": {},
   "outputs": [],
   "source": []
  }
 ],
 "metadata": {
  "kernelspec": {
   "display_name": "Python 3 (ipykernel)",
   "language": "python",
   "name": "python3"
  },
  "language_info": {
   "codemirror_mode": {
    "name": "ipython",
    "version": 3
   },
   "file_extension": ".py",
   "mimetype": "text/x-python",
   "name": "python",
   "nbconvert_exporter": "python",
   "pygments_lexer": "ipython3",
   "version": "3.10.12"
  },
  "widgets": {
   "application/vnd.jupyter.widget-state+json": {
    "state": {},
    "version_major": 2,
    "version_minor": 0
   }
  }
 },
 "nbformat": 4,
 "nbformat_minor": 5
}
